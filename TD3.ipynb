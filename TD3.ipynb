{
  "nbformat": 4,
  "nbformat_minor": 0,
  "metadata": {
    "colab": {
      "name": "Untitled2.ipynb",
      "version": "0.3.2",
      "provenance": [],
      "include_colab_link": true
    },
    "kernelspec": {
      "name": "python3",
      "display_name": "Python 3"
    }
  },
  "cells": [
    {
      "cell_type": "markdown",
      "metadata": {
        "id": "view-in-github",
        "colab_type": "text"
      },
      "source": [
        "<a href=\"https://colab.research.google.com/github/bcwalraven/TD3/blob/master/TD3.ipynb\" target=\"_parent\"><img src=\"https://colab.research.google.com/assets/colab-badge.svg\" alt=\"Open In Colab\"/></a>"
      ]
    },
    {
      "cell_type": "code",
      "metadata": {
        "id": "eEKMEpZvvCJS",
        "colab_type": "code",
        "colab": {
          "base_uri": "https://localhost:8080/",
          "height": 170
        },
        "outputId": "e335b015-a4fa-441b-e614-b4e05eae36ff"
      },
      "source": [
        "!pip install pybullet"
      ],
      "execution_count": 1,
      "outputs": [
        {
          "output_type": "stream",
          "text": [
            "Collecting pybullet\n",
            "\u001b[?25l  Downloading https://files.pythonhosted.org/packages/60/06/31bbfa984f58b728d2f051e2a26810c88b716eb58cbbf4fd14b225b986fb/pybullet-2.5.1.tar.gz (48.1MB)\n",
            "\u001b[K     |████████████████████████████████| 48.1MB 1.2MB/s \n",
            "\u001b[?25hBuilding wheels for collected packages: pybullet\n",
            "  Building wheel for pybullet (setup.py) ... \u001b[?25l\u001b[?25hdone\n",
            "  Stored in directory: /root/.cache/pip/wheels/c3/92/94/4f9c3e1b1769fc834a102b7ed04cc07ebad8663bfe11e2d830\n",
            "Successfully built pybullet\n",
            "Installing collected packages: pybullet\n",
            "Successfully installed pybullet-2.5.1\n"
          ],
          "name": "stdout"
        }
      ]
    },
    {
      "cell_type": "code",
      "metadata": {
        "id": "HkvEs68ZvDYH",
        "colab_type": "code",
        "colab": {}
      },
      "source": [
        "#importing the libraries\n",
        "[ ]\n",
        "import os\n",
        "import time\n",
        "import random\n",
        "import numpy as np\n",
        "import matplotlib.pyplot as plt\n",
        "import pybullet_envs\n",
        "import gym\n",
        "import torch\n",
        "import torch.nn as nn\n",
        "import torch.nn.functional as F\n",
        "from gym import wrappers\n",
        "from torch.autograd import Variable\n",
        "from collections import deque"
      ],
      "execution_count": 0,
      "outputs": []
    },
    {
      "cell_type": "markdown",
      "metadata": {
        "id": "shUlz2fCvryE",
        "colab_type": "text"
      },
      "source": [
        "## **Step 1: We initialize the Experience Replay memory**"
      ]
    },
    {
      "cell_type": "code",
      "metadata": {
        "id": "vL9zfZDvvHV9",
        "colab_type": "code",
        "colab": {}
      },
      "source": [
        "class ReplayBuffer(object):\n",
        "  def __init__(self, max_size=1e6):\n",
        "    self.storage = []\n",
        "    self.max_size = max_size\n",
        "    self.ptr = 0\n",
        "    \n",
        "  def add(self, transition):\n",
        "    if len(self.storage == self.max_size):\n",
        "      self.storage[int(self.ptr)] = transition\n",
        "      self.ptr = (self.ptr + 1) % self.max_size\n",
        "    else:\n",
        "      self.storage.append(transition)\n",
        "      \n",
        "  def sample(self, batch_size):\n",
        "    ind = np.random.randint(0, len(self.storate), batch_size)\n",
        "    batch_states, batch_next_states, batch_actions, batch_rewards, batch_dones = [], [], [], [], []\n",
        "    for i in ind:\n",
        "      state, next_state, action, reward, done = self.storage[i]\n",
        "      batch_states.append(np.array(state, copy=False))\n",
        "      batch_next_states.append(np.array(next_state, copy=False))\n",
        "      batch_actions.append(np.array(actions, copy=False))\n",
        "      batch_rewards.append(np.array(reward, copy=False))    \n",
        "      batch_dones.append(np.array(done, copy=False))\n",
        "      \n",
        "    return np.array(batch_states), np.array(batch_next_states), np.array(batch_actions), np.array(batch_rewards).reshape(-1, 1), np.array(batch_dones).reshape(-1, 1) "
      ],
      "execution_count": 0,
      "outputs": []
    },
    {
      "cell_type": "markdown",
      "metadata": {
        "id": "w0-4Yhf8v-BW",
        "colab_type": "text"
      },
      "source": [
        "## Step 2: We build one neural network for the Actor model and one neural network for the Actor target"
      ]
    },
    {
      "cell_type": "code",
      "metadata": {
        "id": "fv-3KRuHv_tL",
        "colab_type": "code",
        "colab": {}
      },
      "source": [
        "class Actor(nn.Module):\n",
        "  def __init__(self, state_dim, action_dim, max_action):\n",
        "    super(Actor, self).__init__()\n",
        "    self.layer_1 = nn.Linear(state_dim, 400)\n",
        "    self.layer_2 = nn.Linear(400, 300)\n",
        "    self.layer_3 = nn.Linear(300, action_dim)\n",
        "    self.max_action = max_action\n",
        "    \n",
        "  def forward(self, x):\n",
        "    x = F.relu(self.layer_1(x))\n",
        "    x = F.relu(self.layer_2(x))\n",
        "    x = self.max_action * torch.tanh(self.layer_3(x))\n",
        "    return x"
      ],
      "execution_count": 0,
      "outputs": []
    },
    {
      "cell_type": "markdown",
      "metadata": {
        "id": "s7r_Wu0m1G7q",
        "colab_type": "text"
      },
      "source": [
        "## Step 3: We build two neural networks for the two Critic models and two neural networks for the two Critic targets"
      ]
    },
    {
      "cell_type": "code",
      "metadata": {
        "id": "-oLXAgrv1Jp1",
        "colab_type": "code",
        "colab": {}
      },
      "source": [
        "class Critic(nn.Module):\n",
        "  def __init__(self, state_dim, action_dim):\n",
        "    super(Critic, self).__init__()\n",
        "    #defining the first critic network\n",
        "    self.layer_1_1 = nn.Linear(state_dim + sction_dim, 400)\n",
        "    self.layer_2_2 = nn.Linear(400, 300)\n",
        "    self.layer_3_3 = nn.Linear(300, 1)\n",
        "    #defining the second critic network\n",
        "    self.layer_2_1 = nn.Linear(state_dim + sction_dim, 400)\n",
        "    self.layer_2_2 = nn.Linear(400, 300)\n",
        "    self.layer_2_3 = nn.Linear(300, 1)\n",
        "    \n",
        "  def forward(self, x, u):\n",
        "    xu = torch.cat([x, u], 1)\n",
        "    # forward prop through the first critic network\n",
        "    x1 = F.relu(self.layer_1_1(xu))\n",
        "    x1 = F.relu(self.layer_1_2(x1))\n",
        "    x1 = self.layer_1_3(x1)\n",
        "    # forward prop through the second critic network \n",
        "    x2 = F.relu(self.layer_2_1(xu))\n",
        "    x2 = F.relu(self.layer_2_2(x2))\n",
        "    x2 = self.layer_2_3(x2)\n",
        "    return x1, x2\n",
        "  \n",
        "  def Q_1(self, x, u):\n",
        "    xu = torch.cat([x, u], 1)\n",
        "    x1 = F.relu(self.layer_1_1(xu))\n",
        "    x1 = F.relu(self.layer_1_2(x1))\n",
        "    x1 = self.layer_1_3(x1)\n",
        "    return x1"
      ],
      "execution_count": 0,
      "outputs": []
    },
    {
      "cell_type": "markdown",
      "metadata": {
        "id": "N5xvkFGn6PKr",
        "colab_type": "text"
      },
      "source": [
        ""
      ]
    },
    {
      "cell_type": "code",
      "metadata": {
        "id": "UXSqibHR62RC",
        "colab_type": "code",
        "colab": {}
      },
      "source": [
        "# selecting the device\n",
        "device = torch.device('cuda' if torch.cuda.is_available() else 'cpu')\n",
        "\n",
        "# building the whole training process into a class\n",
        "\n",
        "class TD3(object):\n",
        "  def __init__(self, state_dim, action_dim, max_action):\n",
        "    # initilzing the actor models\n",
        "    self.actor = Actor(state_dim, action_dim, max_action).to(device)\n",
        "    self.actor_target = Actor(state_dim, action_dim, max_action).to(device)\n",
        "    self.actor_target.load_state_dict(self.actor.state_dict())\n",
        "    self.actor_optimizer = torch.optim.Adam(self.actor.parameters())\n",
        "    # initilizing the critic models\n",
        "    self.critic = Critic(self, state_dim, action_dim).to(device)\n",
        "    self.critic_target = Critic(self, state_dim, action_dim).to(device)\n",
        "    self.critic_target.load_state_dict(self.critic_state_dict())\n",
        "    self.actor_optimizer = torch.optim.Adam(self.critic.parameters())\n",
        "    # specifying max action\n",
        "    self.max_action = max_action"
      ],
      "execution_count": 0,
      "outputs": []
    }
  ]
}